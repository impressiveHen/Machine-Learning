{
 "cells": [
  {
   "cell_type": "code",
   "execution_count": 1,
   "metadata": {},
   "outputs": [
    {
     "name": "stdout",
     "output_type": "stream",
     "text": [
      "train_images.shape: (60000, 784)\n",
      "train_labels.shape: (60000,)\n",
      "test_images.shape: (10000, 784)\n",
      "test_labels.shape: (10000,)\n",
      "type of train_images: <class 'numpy.ndarray'>\n",
      "type of train_labels: <class 'numpy.ndarray'>\n"
     ]
    }
   ],
   "source": [
    "# load mnist data \n",
    "import numpy as np\n",
    "import struct\n",
    "def load_images(file_name):\n",
    "    ##   在读取或写入一个文件之前，你必须使用 Python 内置open()函数来打开它。##\n",
    "    ##   file object = open(file_name [, access_mode][, buffering])          ##\n",
    "    ##   file_name是包含您要访问的文件名的字符串值。                         ##\n",
    "    ##   access_mode指定该文件已被打开，即读，写，追加等方式。               ##\n",
    "    ##   0表示不使用缓冲，1表示在访问一个文件时进行缓冲。                    ##\n",
    "    ##   这里rb表示只能以二进制读取的方式打开一个文件                        ##\n",
    "    binfile = open(file_name, 'rb')\n",
    "    ##   从一个打开的文件读取数据\n",
    "    buffers = binfile.read()\n",
    "    ##   读取image文件前4个整型数字\n",
    "    magic,num,rows,cols = struct.unpack_from('>IIII',buffers, 0)\n",
    "    ##   整个images数据大小为60000*28*28\n",
    "    bits = num * rows * cols\n",
    "    ##   读取images数据\n",
    "    images = struct.unpack_from('>' + str(bits) + 'B', buffers, struct.calcsize('>IIII'))\n",
    "    ##   关闭文件\n",
    "    binfile.close()\n",
    "    ##   转换为[60000,784]型数组\n",
    "    images = np.reshape(images, [num, rows * cols])\n",
    "    return images\n",
    "\n",
    "def load_labels(file_name):\n",
    "    ##   打开文件\n",
    "    binfile = open(file_name, 'rb')\n",
    "    ##   从一个打开的文件读取数据\n",
    "    buffers = binfile.read()\n",
    "    ##   读取label文件前2个整形数字，label的长度为num\n",
    "    magic,num = struct.unpack_from('>II', buffers, 0)\n",
    "    ##   读取labels数据\n",
    "    labels = struct.unpack_from('>' + str(num) + \"B\", buffers, struct.calcsize('>II'))\n",
    "    ##   关闭文件\n",
    "    binfile.close()\n",
    "    ##   转换为一维数组\n",
    "    labels = np.reshape(labels, [num])\n",
    "    return labels\n",
    "filename_train_images = 'train-images.idx3-ubyte'\n",
    "filename_train_labels = 'train-labels.idx1-ubyte'\n",
    "filename_test_images = 't10k-images.idx3-ubyte'\n",
    "filename_test_labels = 't10k-labels.idx1-ubyte'\n",
    "train_images=load_images(filename_train_images)\n",
    "train_labels=load_labels(filename_train_labels)\n",
    "test_images=load_images(filename_test_images)\n",
    "test_labels=load_labels(filename_test_labels)\n",
    "\n",
    "train_images = train_images / 255.0\n",
    "test_images = test_images / 255.0\n",
    "\n",
    "print(\"train_images.shape: \" + str(train_images.shape))\n",
    "print(\"train_labels.shape: \" + str(train_labels.shape))\n",
    "print(\"test_images.shape: \" + str(test_images.shape))\n",
    "print(\"test_labels.shape: \" + str(test_labels.shape))\n",
    "\n",
    "print(\"type of train_images: \" + str(type(train_images)))\n",
    "print(\"type of train_labels: \" + str(type(train_labels)))\n"
   ]
  },
  {
   "cell_type": "code",
   "execution_count": 2,
   "metadata": {},
   "outputs": [
    {
     "name": "stdout",
     "output_type": "stream",
     "text": [
      "image show a train_image\n"
     ]
    },
    {
     "data": {
      "text/plain": [
       "<matplotlib.image.AxesImage at 0xb6b74d0>"
      ]
     },
     "execution_count": 2,
     "metadata": {},
     "output_type": "execute_result"
    }
   ],
   "source": [
    "# pyplot is a submodule of matplotlib and not immediately imported when you import matplotlib\n",
    "from matplotlib import pyplot as plt\n",
    "print('image show a train_image')\n",
    "plt.imshow(train_images[17,:].reshape(28,28))"
   ]
  },
  {
   "cell_type": "code",
   "execution_count": 3,
   "metadata": {},
   "outputs": [
    {
     "name": "stdout",
     "output_type": "stream",
     "text": [
      "[0, 3, 5, 2, 1]\n"
     ]
    }
   ],
   "source": [
    "import random \n",
    "def random_select_m(m, rangeLimit=60000):\n",
    "    '''\n",
    "    return list of m randomly selected numbers from 0~rangeLimit-1\n",
    "    '''\n",
    "    assert isinstance(m,int)\n",
    "    assert m>=1 and m<=rangeLimit\n",
    "    allrange = np.arange(rangeLimit)\n",
    "    np.random.shuffle(allrange)\n",
    "    ans = allrange[0:m]\n",
    "    return list(ans)\n",
    "\n",
    "print(random_select_m(5, 10))\n"
   ]
  },
  {
   "cell_type": "code",
   "execution_count": 4,
   "metadata": {},
   "outputs": [
    {
     "name": "stdout",
     "output_type": "stream",
     "text": [
      "Computation time = 0.0ms\n"
     ]
    }
   ],
   "source": [
    "import time\n",
    "tic = time.process_time()\n",
    "toc = time.process_time()\n",
    "print (\"Computation time = \" + str(1000*(toc - tic)) + \"ms\")\n",
    "del(tic)\n",
    "del(toc)"
   ]
  },
  {
   "cell_type": "code",
   "execution_count": 5,
   "metadata": {},
   "outputs": [
    {
     "name": "stdout",
     "output_type": "stream",
     "text": [
      "prediction: [2 1]\n",
      "probability: [[0. 0. 1. 0. 0. 0.]\n",
      " [0. 1. 0. 0. 0. 0.]]\n"
     ]
    }
   ],
   "source": [
    "from sklearn.neighbors import KNeighborsClassifier\n",
    "\n",
    "# example of using sklearn KNeighborsClassifier\n",
    "features = np.array([[1,2],[3,4],[2,2],[-3,-3],[-4,-5],[-5,-4]])\n",
    "label = np.array([0,1,2,3,4,5])\n",
    "\n",
    "# Classifier implementing the k-nearest neighbors vote.\n",
    "# algorithm : {‘auto’, ‘ball_tree’, ‘kd_tree’, ‘brute’}\n",
    "# ‘auto’ will attempt to decide the most appropriate algorithm based on the values passed to fit method.\n",
    "model = KNeighborsClassifier(n_neighbors=1)\n",
    "\n",
    "# Train the model using the training sets\n",
    "model.fit(features,label)\n",
    "\n",
    "#Predict Output\n",
    "prediction = model.predict([[2,3],[0,8]])\n",
    "print(\"prediction: \" + str(prediction))\n",
    "print(\"probability: \" + str(model.predict_proba([[2,3],[0,8]])))\n",
    "\n",
    "del(model)\n",
    "del(prediction)\n",
    "del(features)\n",
    "del(label)\n",
    "\n",
    "\n"
   ]
  },
  {
   "cell_type": "code",
   "execution_count": 6,
   "metadata": {},
   "outputs": [],
   "source": [
    "M_all = [1000, 5000 ,10000]\n",
    "num_train_image = train_images.shape[0]\n",
    "num_test_image = test_images.shape[0]"
   ]
  },
  {
   "cell_type": "code",
   "execution_count": 22,
   "metadata": {},
   "outputs": [
    {
     "name": "stdout",
     "output_type": "stream",
     "text": [
      "randomly select M training image to train 1NN classifier\n",
      "M = 1000 Computation time = 18953.125ms\n",
      "M = 1000 has 88.46000000000001% accuracy\n",
      "M = 1000 Computation time = 18859.375ms\n",
      "M = 1000 has 88.88000000000001% accuracy\n",
      "M = 1000 Computation time = 18687.5ms\n",
      "M = 1000 has 88.03% accuracy\n",
      "M = 1000 Computation time = 19718.75ms\n",
      "M = 1000 has 88.34% accuracy\n",
      "M = 1000 Computation time = 20562.5ms\n",
      "M = 1000 has 88.61% accuracy\n",
      "average accuracy for M=1000 is 88.46400000000001%\n",
      "M = 5000 Computation time = 87250.0ms\n",
      "M = 5000 has 93.30000000000001% accuracy\n",
      "M = 5000 Computation time = 86687.5ms\n",
      "M = 5000 has 93.47% accuracy\n",
      "M = 5000 Computation time = 92093.75ms\n",
      "M = 5000 has 93.33% accuracy\n",
      "M = 5000 Computation time = 96187.5ms\n",
      "M = 5000 has 93.54% accuracy\n",
      "M = 5000 Computation time = 90921.875ms\n",
      "M = 5000 has 93.56% accuracy\n",
      "average accuracy for M=5000 is 93.44000000000001%\n",
      "M = 10000 Computation time = 197984.375ms\n",
      "M = 10000 has 94.81% accuracy\n",
      "M = 10000 Computation time = 187578.125ms\n",
      "M = 10000 has 94.65% accuracy\n",
      "M = 10000 Computation time = 177500.0ms\n",
      "M = 10000 has 94.69% accuracy\n",
      "M = 10000 Computation time = 166515.625ms\n",
      "M = 10000 has 95.08% accuracy\n",
      "M = 10000 Computation time = 168734.375ms\n",
      "M = 10000 has 94.57% accuracy\n",
      "average accuracy for M=10000 is 94.75999999999999%\n"
     ]
    }
   ],
   "source": [
    "'''\n",
    "where returns tuple\n",
    "a = np.array([1, 2, 3])\n",
    "# element is np.ndarray\n",
    "np.where(a>0)[0].tolist()\n",
    "Out[36]: [0, 1, 2]\n",
    "'''\n",
    "\n",
    "\n",
    "print('randomly select M training image to train 1NN classifier')\n",
    "\n",
    "for M in M_all:\n",
    "    sum_accur = 0\n",
    "    for i in range(5):\n",
    "        pick_list = random_select_m(M)\n",
    "        selected_train_images = train_images[pick_list,:]\n",
    "        assert selected_train_images.shape == (M,28*28)\n",
    "        selected_train_label = train_labels[pick_list]\n",
    "        assert selected_train_label.shape == (M,)\n",
    "        model = KNeighborsClassifier(n_neighbors=1)\n",
    "        model.fit(selected_train_images,selected_train_label)\n",
    "        tic = time.process_time()\n",
    "        predict_all_Test = model.predict(test_images)\n",
    "        toc = time.process_time()\n",
    "        print(\"M = {} Computation time = \".format(M) + str(1000*(toc - tic)) + \"ms\")\n",
    "        correctPrediction = predict_all_Test-test_labels == 0\n",
    "        accuracy = sum(correctPrediction) / num_test_image * 100\n",
    "        print(\"M = {} has {}% accuracy\".format(M,accuracy))\n",
    "        sum_accur += accuracy\n",
    "    print('average accuracy for M={} is {}%'.format(M,sum_accur/5))\n",
    "    "
   ]
  },
  {
   "cell_type": "code",
   "execution_count": 7,
   "metadata": {},
   "outputs": [
    {
     "name": "stdout",
     "output_type": "stream",
     "text": [
      "cluster_centers: [[1. 2.]\n",
      " [4. 2.]]\n",
      "each data classify cluster: [0 0 0 1 1 1]\n",
      "classify [0,0], [4,4]: [0 1]\n"
     ]
    }
   ],
   "source": [
    "# example of using sklearn kmeans\n",
    "from sklearn.cluster import KMeans\n",
    "data = np.array([[1, 2], [1, 4], [1, 0], [4, 2], [4, 4], [4, 0]])\n",
    "kmeansModel = KMeans(n_clusters=2, random_state=0)\n",
    "kmeansModel.fit(data)\n",
    "print(\"cluster_centers: \" + str(kmeansModel.cluster_centers_))\n",
    "print(\"each data classify cluster: \" + str(kmeansModel.labels_))\n",
    "print(\"classify [0,0], [4,4]: \" + str(kmeansModel.predict([[0, 0], [4, 4]])))\n",
    "del(data)\n",
    "del(kmeansModel)\n"
   ]
  },
  {
   "cell_type": "code",
   "execution_count": 8,
   "metadata": {},
   "outputs": [
    {
     "name": "stdout",
     "output_type": "stream",
     "text": [
      "label0 first 10: [1, 21, 34, 37, 51, 56, 63, 68, 69, 75]\n",
      "label1 first 10: [3, 6, 8, 14, 23, 24, 40, 59, 67, 70]\n",
      "label2 first 10: [5, 16, 25, 28, 76, 82, 109, 117, 120, 122]\n",
      "label3 first 10: [7, 10, 12, 27, 30, 44, 49, 50, 74, 86]\n",
      "label4 first 10: [2, 9, 20, 26, 53, 58, 60, 61, 64, 89]\n",
      "label5 first 10: [0, 11, 35, 47, 65, 100, 132, 138, 145, 173]\n",
      "label6 first 10: [13, 18, 32, 36, 39, 62, 66, 73, 83, 90]\n",
      "label7 first 10: [15, 29, 38, 42, 52, 71, 79, 84, 91, 96]\n",
      "label8 first 10: [17, 31, 41, 46, 55, 85, 94, 97, 125, 137]\n",
      "label9 first 10: [4, 19, 22, 33, 43, 45, 48, 54, 57, 80]\n"
     ]
    }
   ],
   "source": [
    "label_dict = dict()\n",
    "for i in range(10):\n",
    "    label_dict['label{}'.format(i)] = list()\n",
    "for i in range(num_train_image):\n",
    "    label_dict['label{}'.format(train_labels[i])].append(i)\n",
    "for i in range(10):\n",
    "    print(\"label{} first 10: \".format(i) + str(label_dict['label{}'.format(i)][0:10]) )"
   ]
  },
  {
   "cell_type": "code",
   "execution_count": 26,
   "metadata": {
    "scrolled": true
   },
   "outputs": [
    {
     "name": "stdout",
     "output_type": "stream",
     "text": [
      "cluster_labels: [1 1 1 1 1 1 2 2 2 2 0 0 0 0 0]\n",
      "centers:[[13. ]\n",
      " [ 3.5]\n",
      " [ 8.5]]\n",
      "[[13], [12], [3], [4], [8], [9]]\n"
     ]
    }
   ],
   "source": [
    "# example of finding nearest to kmeans cluster center\n",
    "def get_close_center(data,num_clusters,num_closest):\n",
    "    assert isinstance(data,np.ndarray)\n",
    "    assert isinstance(num_clusters,int)\n",
    "    assert isinstance(num_closest,int)\n",
    "    \n",
    "    kmeansModel = KMeans(n_clusters=num_clusters,random_state=0)\n",
    "    kmeansModel.fit(data)\n",
    "    cluster_labels = kmeansModel.labels_\n",
    "    print('cluster_labels: ' + str(cluster_labels))\n",
    "    assert len(cluster_labels) == data.shape[0]\n",
    "    centers = kmeansModel.cluster_centers_\n",
    "    print('centers:' + str(centers))\n",
    "    cluster_dict = dict()\n",
    "    cluster_len_dict = dict()\n",
    "    for i in range(num_clusters):\n",
    "        cluster_dict['cluster{}'.format(i)] = list()\n",
    "        cluster_len_dict['cluster{}'.format(i)] = list()\n",
    "    for i in range(data.shape[0]):\n",
    "        cluster_dict['cluster{}'.format(cluster_labels[i])].append(i)\n",
    "        cluster_len_dict['cluster{}'.format(cluster_labels[i])].append(\\\n",
    "            np.linalg.norm(data[i,:]-centers[cluster_labels[i]]))\n",
    "    \n",
    "    selected_data = list()\n",
    "    for i in range(num_clusters):\n",
    "        sort_index = np.argsort(np.array(cluster_len_dict['cluster{}'.format(i)]))\n",
    "        first_index = sort_index[0:num_closest]\n",
    "        selected_data = selected_data + data[np.array(cluster_dict['cluster{}'.format(i)])[first_index],:].tolist()\n",
    "    \n",
    "    return selected_data\n",
    "        \n",
    "    \n",
    "    \n",
    "print(get_close_center(np.array([[1],[2],[3],[4],[5],[6],[7],[8],[9],[10],[11],[12],[13],[14],[15]]),3,2))\n",
    "    \n",
    "    \n",
    "    \n",
    "    \n",
    "        \n",
    "            \n",
    "    \n",
    "    "
   ]
  },
  {
   "cell_type": "code",
   "execution_count": 14,
   "metadata": {
    "scrolled": true
   },
   "outputs": [
    {
     "name": "stdout",
     "output_type": "stream",
     "text": [
      "M = 1000 Computation time = 19359.375ms\n",
      "M = 1000 has 91.97% accuracy\n",
      "M = 5000 Computation time = 85531.25ms\n",
      "M = 5000 has 93.87% accuracy\n",
      "M = 10000 Computation time = 162046.875ms\n",
      "M = 10000 has 94.61% accuracy\n"
     ]
    }
   ],
   "source": [
    "num_cluster = 25\n",
    "\n",
    "\n",
    "for M in M_all:\n",
    "    selected_train_images = []\n",
    "    selected_train_label = []\n",
    "    for i in range(10):\n",
    "        cluster_dict = dict()\n",
    "        cluster_len_dict = dict()\n",
    "\n",
    "        kmeansModel = KMeans(n_clusters=num_cluster,random_state=0)\n",
    "        kmeansModel.fit(train_images[label_dict['label{}'.format(i)],:])\n",
    "        cluster_labels = kmeansModel.labels_\n",
    "        centers = kmeansModel.cluster_centers_\n",
    "\n",
    "\n",
    "        for j in range(num_cluster):\n",
    "            cluster_dict['cluster{}'.format(j)] = list()\n",
    "            cluster_len_dict['cluster{}'.format(j)] = list()\n",
    "\n",
    "\n",
    "        for k in range(len(label_dict['label{}'.format(i)])):\n",
    "            cluster_dict['cluster{}'.format(cluster_labels[k])].append(label_dict['label{}'.format(i)][k])\n",
    "            c = centers[cluster_labels[k]]\n",
    "            cluster_len_dict['cluster{}'.format(cluster_labels[k])].\\\n",
    "                append(np.linalg.norm(train_images[label_dict['label{}'.format(i)][k],:] - c))\n",
    "\n",
    "\n",
    "        for z in range(num_cluster):\n",
    "\n",
    "            first_ith = np.array(cluster_dict['cluster{}'.format(z)])\\\n",
    "                [np.argsort(np.array(cluster_len_dict['cluster{}'.format(z)]))[0:M//10//num_cluster]]\n",
    "            #print(first_ith)\n",
    "            #print(cluster_dict['cluster{}'.format(z)])\n",
    "\n",
    "            selected_train_images = selected_train_images + train_images[first_ith,:].tolist()\n",
    "            selected_train_label = selected_train_label + train_labels[first_ith].tolist()\n",
    "\n",
    "\n",
    "        del(kmeansModel)\n",
    "        del(cluster_dict)\n",
    "        del(cluster_labels)\n",
    "\n",
    "    selected_train_images = np.array(selected_train_images)\n",
    "    selected_train_label = np.array(selected_train_label)\n",
    "    assert selected_train_images.shape == (M,28*28)\n",
    "    assert selected_train_label.shape == (M,)\n",
    "\n",
    "    model = KNeighborsClassifier(n_neighbors=1)\n",
    "    model.fit(selected_train_images,selected_train_label)\n",
    "    tic = time.process_time()\n",
    "    predict_all_Test = model.predict(test_images)\n",
    "    toc = time.process_time()\n",
    "    print(\"M = {} Computation time = \".format(M) + str(1000*(toc - tic)) + \"ms\")\n",
    "    correctPrediction = predict_all_Test-test_labels == 0\n",
    "    accuracy = sum(correctPrediction) / num_test_image * 100\n",
    "    print(\"M = {} has {}% accuracy\".format(M,accuracy))\n",
    "    del(selected_train_images)\n",
    "    del(selected_train_label)\n",
    "        "
   ]
  },
  {
   "cell_type": "code",
   "execution_count": null,
   "metadata": {},
   "outputs": [],
   "source": [
    "\n",
    "\n",
    "\n",
    "\n",
    "\n",
    "'''\n",
    "randomly select M training image to train 1NN classifier\n",
    "M = 1000 Computation time = 18953.125ms\n",
    "M = 1000 has 88.46000000000001% accuracy\n",
    "M = 1000 Computation time = 18859.375ms\n",
    "M = 1000 has 88.88000000000001% accuracy\n",
    "M = 1000 Computation time = 18687.5ms\n",
    "M = 1000 has 88.03% accuracy\n",
    "M = 1000 Computation time = 19718.75ms\n",
    "M = 1000 has 88.34% accuracy\n",
    "M = 1000 Computation time = 20562.5ms\n",
    "M = 1000 has 88.61% accuracy\n",
    "average accuracy for M=1000 is 88.46400000000001%\n",
    "M = 5000 Computation time = 87250.0ms\n",
    "M = 5000 has 93.30000000000001% accuracy\n",
    "M = 5000 Computation time = 86687.5ms\n",
    "M = 5000 has 93.47% accuracy\n",
    "M = 5000 Computation time = 92093.75ms\n",
    "M = 5000 has 93.33% accuracy\n",
    "M = 5000 Computation time = 96187.5ms\n",
    "M = 5000 has 93.54% accuracy\n",
    "M = 5000 Computation time = 90921.875ms\n",
    "M = 5000 has 93.56% accuracy\n",
    "average accuracy for M=5000 is 93.44000000000001%\n",
    "M = 10000 Computation time = 197984.375ms\n",
    "M = 10000 has 94.81% accuracy\n",
    "M = 10000 Computation time = 187578.125ms\n",
    "M = 10000 has 94.65% accuracy\n",
    "M = 10000 Computation time = 177500.0ms\n",
    "M = 10000 has 94.69% accuracy\n",
    "M = 10000 Computation time = 166515.625ms\n",
    "M = 10000 has 95.08% accuracy\n",
    "M = 10000 Computation time = 168734.375ms\n",
    "M = 10000 has 94.57% accuracy\n",
    "average accuracy for M=10000 is 94.75999999999999%\n",
    "\n",
    "num_clus = 10\n",
    "M = 1000 Computation time = 18171.875ms\n",
    "M = 1000 has 91.09% accuracy\n",
    "M = 5000 Computation time = 74062.5ms\n",
    "M = 5000 has 93.16% accuracy\n",
    "M = 10000 Computation time = 136921.875ms\n",
    "M = 10000 has 94.19999999999999% accuracy\n",
    "\n",
    "num_clus = 20\n",
    "M = 1000 Computation time = 19078.125ms\n",
    "M = 1000 has 91.75999999999999% accuracy\n",
    "M = 5000 Computation time = 79500.0ms\n",
    "M = 5000 has 93.83% accuracy\n",
    "M = 10000 Computation time = 150937.5ms\n",
    "M = 10000 has 94.8% accuracy\n",
    "\n",
    "M = 1000 Computation time = 19359.375ms\n",
    "M = 1000 has 91.97% accuracy\n",
    "M = 5000 Computation time = 85531.25ms\n",
    "M = 5000 has 93.87% accuracy\n",
    "M = 10000 Computation time = 162046.875ms\n",
    "M = 10000 has 94.61% accuracy\n",
    "'''\n"
   ]
  }
 ],
 "metadata": {
  "kernelspec": {
   "display_name": "Python 3",
   "language": "python",
   "name": "python3"
  },
  "language_info": {
   "codemirror_mode": {
    "name": "ipython",
    "version": 3
   },
   "file_extension": ".py",
   "mimetype": "text/x-python",
   "name": "python",
   "nbconvert_exporter": "python",
   "pygments_lexer": "ipython3",
   "version": "3.7.2"
  }
 },
 "nbformat": 4,
 "nbformat_minor": 2
}
